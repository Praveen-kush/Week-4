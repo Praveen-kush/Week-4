{
 "cells": [
  {
   "cell_type": "markdown",
   "id": "60f9d72e",
   "metadata": {},
   "source": [
    "# Q1. Explain Class and Object with respect to Object-Oriented Programming. Give a suitable example."
   ]
  },
  {
   "cell_type": "markdown",
   "id": "9c288aa2",
   "metadata": {},
   "source": [
    "Answer:"
   ]
  },
  {
   "cell_type": "markdown",
   "id": "c2e7b13b",
   "metadata": {},
   "source": [
    "Python is an object-oriented programming language that offers classes, which are a potent tool for writing reusable code. To describe objects with shared characteristics and behaviours, classes are utilised. We shall scrutinize Python's ideas of classes and objects."
   ]
  },
  {
   "cell_type": "markdown",
   "id": "adaefcfa",
   "metadata": {},
   "source": [
    "Class:\n",
    "     A class is a user-defined data type that contains both the data itself and the methods that may be used to manipulate it. In a sense, classes serve as a template to create objects. They provide the characteristics and operations that the objects will employ.\n",
    "\n",
    "Suppose a class is a prototype of a building. A building contains all the details about the floor, rooms, doors, windows, etc. we can make as many buildings as we want, based on these details. Hence, the building can be seen as a class, and we can create as many objects of this class."
   ]
  },
  {
   "cell_type": "markdown",
   "id": "b619112b",
   "metadata": {},
   "source": [
    "Object:\n",
    "    An object is a particular instance of a class with unique characteristics and functions. After a class has been established, you may make objects based on it. By using the class constructor, you may create an object of a class in Python. The object's attributes are initialised in the constructor, which is a special procedure with the name __init__."
   ]
  },
  {
   "cell_type": "code",
   "execution_count": 131,
   "id": "0a357edf",
   "metadata": {},
   "outputs": [],
   "source": [
    "class car:\n",
    "    def __init__(self,year,make,model,speed):\n",
    "        self.__make=make\n",
    "        self.__model=model\n",
    "        self.__year=year\n",
    "        self.__speed=500\n",
    "        \n",
    "    def set_speed(self,speed):\n",
    "        self.__speed=0 if speed<0 else speed\n",
    "        \n",
    "    def get_speed(self):\n",
    "        return self.__speed\n",
    "   \n",
    "        \n",
    "        \n",
    "        "
   ]
  },
  {
   "cell_type": "code",
   "execution_count": 132,
   "id": "33c02fd9",
   "metadata": {},
   "outputs": [],
   "source": [
    "c=car(2023,\"Mahindra\",\"Thar\",12)"
   ]
  },
  {
   "cell_type": "code",
   "execution_count": 133,
   "id": "425c2d56",
   "metadata": {},
   "outputs": [
    {
     "data": {
      "text/plain": [
       "2023"
      ]
     },
     "execution_count": 133,
     "metadata": {},
     "output_type": "execute_result"
    }
   ],
   "source": [
    "c._car__year"
   ]
  },
  {
   "cell_type": "code",
   "execution_count": 134,
   "id": "7cd77c57",
   "metadata": {},
   "outputs": [
    {
     "data": {
      "text/plain": [
       "'Thar'"
      ]
     },
     "execution_count": 134,
     "metadata": {},
     "output_type": "execute_result"
    }
   ],
   "source": [
    "c._car__model"
   ]
  },
  {
   "cell_type": "code",
   "execution_count": 135,
   "id": "ae5b722b",
   "metadata": {},
   "outputs": [
    {
     "data": {
      "text/plain": [
       "'Mahindra'"
      ]
     },
     "execution_count": 135,
     "metadata": {},
     "output_type": "execute_result"
    }
   ],
   "source": [
    "c._car__make"
   ]
  },
  {
   "cell_type": "code",
   "execution_count": 136,
   "id": "2df0a237",
   "metadata": {},
   "outputs": [
    {
     "data": {
      "text/plain": [
       "500"
      ]
     },
     "execution_count": 136,
     "metadata": {},
     "output_type": "execute_result"
    }
   ],
   "source": [
    "c._car__speed"
   ]
  },
  {
   "cell_type": "code",
   "execution_count": 137,
   "id": "f6549151",
   "metadata": {},
   "outputs": [],
   "source": [
    "c.set_speed(-233)"
   ]
  },
  {
   "cell_type": "code",
   "execution_count": 138,
   "id": "ad51fc85",
   "metadata": {},
   "outputs": [
    {
     "data": {
      "text/plain": [
       "0"
      ]
     },
     "execution_count": 138,
     "metadata": {},
     "output_type": "execute_result"
    }
   ],
   "source": [
    "c.get_speed()"
   ]
  },
  {
   "cell_type": "markdown",
   "id": "a39783f2",
   "metadata": {},
   "source": [
    "# Q2. Name the four pillars of OOPs."
   ]
  },
  {
   "cell_type": "markdown",
   "id": "ba4c772f",
   "metadata": {},
   "source": [
    "Answer:"
   ]
  },
  {
   "cell_type": "markdown",
   "id": "7ba0da8c",
   "metadata": {},
   "source": [
    "Name the four pillars of OOPs is the:\n",
    "    1. Abstraction\n",
    "    2. Inheritance\n",
    "    3. Encapsulation\n",
    "    4. Polymorphism"
   ]
  },
  {
   "cell_type": "markdown",
   "id": "c76e8f05",
   "metadata": {},
   "source": [
    "Abstraction: Objects only reveal internal mechanisms that are relevant for the use of other objects, hiding any unnecessary implementation code. The derived class can have its functionality extended. This concept can help developers more easily make additional changes or additions over time."
   ]
  },
  {
   "cell_type": "markdown",
   "id": "8ffe6d0d",
   "metadata": {},
   "source": [
    "Inheritance: Classes can reuse code from other classes. Relationships and subclasses between objects can be assigned, enabling developers to reuse common logic while still maintaining a unique hierarchy. This property of OOP forces a more thorough data analysis, reduces development time and ensures a higher level of accuracy."
   ]
  },
  {
   "cell_type": "markdown",
   "id": "1b49677e",
   "metadata": {},
   "source": [
    "Encapsulation:Polymorphism. Objects are designed to share behaviors and they can take on more than one form. The program will determine which meaning or usage is necessary for each execution of that object from a parent class, reducing the need to duplicate code. A child class is then created, which extends the functionality of the parent class. Polymorphism allows different types of objects to pass through the same interface."
   ]
  },
  {
   "cell_type": "markdown",
   "id": "0e1295db",
   "metadata": {},
   "source": [
    "Polymorphism: Objects are designed to share behaviors and they can take on more than one form. The program will determine which meaning or usage is necessary for each execution of that object from a parent class, reducing the need to duplicate code. A child class is then created, which extends the functionality of the parent class. Polymorphism allows different types of objects to pass through the same interface."
   ]
  },
  {
   "cell_type": "markdown",
   "id": "31565fc1",
   "metadata": {},
   "source": [
    "# Q3. Explain why the __init__() function is used. Give a suitable example."
   ]
  },
  {
   "cell_type": "markdown",
   "id": "11449165",
   "metadata": {},
   "source": [
    "Answer:"
   ]
  },
  {
   "cell_type": "markdown",
   "id": "d2679261",
   "metadata": {},
   "source": [
    "The __init__() function is a special method, also known as a constructor, that is used to initialize objects of a class. It gets automatically called when an instance (object) of the class is created. This method allows you to set initial values for attributes (variables) of the object and perform any other necessary setup."
   ]
  },
  {
   "cell_type": "markdown",
   "id": "899e962f",
   "metadata": {},
   "source": [
    "Here's why the __init__() function is used:"
   ]
  },
  {
   "cell_type": "markdown",
   "id": "8561ba5f",
   "metadata": {},
   "source": [
    "Attribute Initialization: The primary purpose of the __init__() function is to initialize the attributes (variables) of an object. It allows you to set initial values for these attributes based on parameters provided during object creation.\n",
    "\n",
    "Object State: It helps establish the initial state of an object. This is important because each instance of a class might need to have different initial attribute values.\n",
    "\n",
    "Setup and Configuration: You can perform any necessary setup or configuration tasks in the __init__() method. This could include setting default values, connecting to databases, or any other operations needed before the object can be used.\n",
    "\n",
    "Encapsulation: The __init__() method provides a way to encapsulate the process of object creation and setup within the class definition. This promotes clean code organization and reduces the chances of errors caused by incorrect object initialization."
   ]
  },
  {
   "cell_type": "markdown",
   "id": "02668e19",
   "metadata": {},
   "source": [
    "Examples to illustrate the usage of __init__():"
   ]
  },
  {
   "cell_type": "code",
   "execution_count": 156,
   "id": "215846bf",
   "metadata": {},
   "outputs": [],
   "source": [
    "class bank_account:\n",
    "    def __init__(self,balance):\n",
    "        self.__balance=balance\n",
    "    def deposit(self,amount):\n",
    "        self.__balance=self.__balance+amount\n",
    "    def withdrow(self,amount):\n",
    "        if self.__balance>=amount:\n",
    "            self.__balance=self.__balance-amount\n",
    "            return True\n",
    "        else:\n",
    "            return False\n",
    "    def get_balance(self):\n",
    "        return self.__balance"
   ]
  },
  {
   "cell_type": "code",
   "execution_count": 157,
   "id": "6288861a",
   "metadata": {},
   "outputs": [],
   "source": [
    "Praveen=bank_account(146000)"
   ]
  },
  {
   "cell_type": "code",
   "execution_count": 158,
   "id": "a3c8142e",
   "metadata": {},
   "outputs": [
    {
     "data": {
      "text/plain": [
       "146000"
      ]
     },
     "execution_count": 158,
     "metadata": {},
     "output_type": "execute_result"
    }
   ],
   "source": [
    "Praveen.get_balance()"
   ]
  },
  {
   "cell_type": "code",
   "execution_count": 159,
   "id": "0cd39415",
   "metadata": {},
   "outputs": [],
   "source": [
    "Praveen.deposit(54000)"
   ]
  },
  {
   "cell_type": "code",
   "execution_count": 160,
   "id": "8b5a5877",
   "metadata": {},
   "outputs": [
    {
     "data": {
      "text/plain": [
       "200000"
      ]
     },
     "execution_count": 160,
     "metadata": {},
     "output_type": "execute_result"
    }
   ],
   "source": [
    "Praveen.get_balance()"
   ]
  },
  {
   "cell_type": "code",
   "execution_count": 161,
   "id": "a7e652bd",
   "metadata": {},
   "outputs": [
    {
     "data": {
      "text/plain": [
       "False"
      ]
     },
     "execution_count": 161,
     "metadata": {},
     "output_type": "execute_result"
    }
   ],
   "source": [
    "Praveen.withdrow(300000)"
   ]
  },
  {
   "cell_type": "code",
   "execution_count": 162,
   "id": "d5022751",
   "metadata": {},
   "outputs": [
    {
     "data": {
      "text/plain": [
       "True"
      ]
     },
     "execution_count": 162,
     "metadata": {},
     "output_type": "execute_result"
    }
   ],
   "source": [
    "Praveen.withdrow(20000)"
   ]
  },
  {
   "cell_type": "code",
   "execution_count": 163,
   "id": "89de3cc5",
   "metadata": {},
   "outputs": [
    {
     "data": {
      "text/plain": [
       "180000"
      ]
     },
     "execution_count": 163,
     "metadata": {},
     "output_type": "execute_result"
    }
   ],
   "source": [
    "Praveen.get_balance()"
   ]
  },
  {
   "cell_type": "markdown",
   "id": "91c7c2c6",
   "metadata": {},
   "source": [
    "# Q4. Why self is used in OOPs?"
   ]
  },
  {
   "cell_type": "markdown",
   "id": "f900e5c5",
   "metadata": {},
   "source": [
    "Answer:"
   ]
  },
  {
   "cell_type": "markdown",
   "id": "d4276fde",
   "metadata": {},
   "source": [
    "The self variable is used to represent the instance of the class which is often used in object-oriented programming. It works as a reference to the object. Python uses the self parameter to refer to instance attributes and methods of the class."
   ]
  },
  {
   "cell_type": "markdown",
   "id": "e85b756b",
   "metadata": {},
   "source": [
    "# Q5. What is inheritance? Give an example for each type of inheritance."
   ]
  },
  {
   "cell_type": "markdown",
   "id": "6749346c",
   "metadata": {},
   "source": [
    "Answer:"
   ]
  },
  {
   "cell_type": "markdown",
   "id": "1e971dbd",
   "metadata": {},
   "source": [
    "Inheritance is a fundamental concept in object-oriented programming (OOP) that allows a new class (called the \"subclass\" or \"derived class\") to inherit properties (attributes and methods) from an existing class (called the \"base class\" or \"parent class\"). Inheritance promotes code reuse, hierarchy, and the ability to create specialized classes based on existing ones."
   ]
  },
  {
   "cell_type": "markdown",
   "id": "2798a4e8",
   "metadata": {},
   "source": [
    "Single Inheritance: In single inheritance, a subclass inherits from a single base class. This is the simplest form of inheritance."
   ]
  },
  {
   "cell_type": "markdown",
   "id": "189949fe",
   "metadata": {},
   "source": [
    "Multiple Inheritance: In multiple inheritance, a subclass can inherit from multiple base classes. This allows a subclass to combine attributes and methods from multiple sources."
   ]
  },
  {
   "cell_type": "markdown",
   "id": "b4ba7d26",
   "metadata": {},
   "source": [
    "Multilevel Inheritance: In multilevel inheritance, a subclass inherits from another subclass. This creates a chain of inheritance."
   ]
  },
  {
   "cell_type": "markdown",
   "id": "7f12e298",
   "metadata": {},
   "source": [
    "Hierarchical Inheritance: In hierarchical inheritance, multiple subclasses inherit from a single base class."
   ]
  },
  {
   "cell_type": "markdown",
   "id": "d221d65e",
   "metadata": {},
   "source": [
    "Hybrid Inheritance: Hybrid inheritance is a combination of two or more types of inheritance. "
   ]
  },
  {
   "cell_type": "markdown",
   "id": "e2d6dbb2",
   "metadata": {},
   "source": [
    "An example for each type of inheritance:"
   ]
  },
  {
   "cell_type": "markdown",
   "id": "146c7a38",
   "metadata": {},
   "source": [
    "# Single inheritance"
   ]
  },
  {
   "cell_type": "code",
   "execution_count": 6,
   "id": "a4baf903",
   "metadata": {},
   "outputs": [],
   "source": [
    "class test:\n",
    "    def test_meth(self):\n",
    "        return \"this is my first class\"\n",
    "class child_test(test):\n",
    "    pass"
   ]
  },
  {
   "cell_type": "code",
   "execution_count": 9,
   "id": "48fbda0e",
   "metadata": {},
   "outputs": [],
   "source": [
    "child_test_obj=child_test()"
   ]
  },
  {
   "cell_type": "code",
   "execution_count": 11,
   "id": "a3eff090",
   "metadata": {},
   "outputs": [
    {
     "data": {
      "text/plain": [
       "'this is my first class'"
      ]
     },
     "execution_count": 11,
     "metadata": {},
     "output_type": "execute_result"
    }
   ],
   "source": [
    "child_test_obj.test_meth()"
   ]
  },
  {
   "cell_type": "markdown",
   "id": "6902f980",
   "metadata": {},
   "source": [
    "# Multiple inheritance"
   ]
  },
  {
   "cell_type": "code",
   "execution_count": 13,
   "id": "e7424fbd",
   "metadata": {},
   "outputs": [],
   "source": [
    "class Bird:\n",
    "    def speak(self):\n",
    "        print(\"Chi Chi\")\n",
    "class Mammal:\n",
    "    def speak1(self):\n",
    "        print(\"me me\")\n",
    "class Bat(Bird, Mammal):\n",
    "    pass"
   ]
  },
  {
   "cell_type": "code",
   "execution_count": 14,
   "id": "7c4af8dc",
   "metadata": {},
   "outputs": [],
   "source": [
    "obj_Bat=Bat()"
   ]
  },
  {
   "cell_type": "code",
   "execution_count": 15,
   "id": "ef65cd46",
   "metadata": {},
   "outputs": [
    {
     "name": "stdout",
     "output_type": "stream",
     "text": [
      "Chi Chi\n"
     ]
    }
   ],
   "source": [
    "obj_Bat.speak()"
   ]
  },
  {
   "cell_type": "code",
   "execution_count": 16,
   "id": "377700f6",
   "metadata": {},
   "outputs": [
    {
     "name": "stdout",
     "output_type": "stream",
     "text": [
      "me me\n"
     ]
    }
   ],
   "source": [
    "obj_Bat.speak1()"
   ]
  },
  {
   "cell_type": "markdown",
   "id": "55cf59dd",
   "metadata": {},
   "source": [
    "# Multilevel inheritance"
   ]
  },
  {
   "cell_type": "code",
   "execution_count": 20,
   "id": "21bb650b",
   "metadata": {},
   "outputs": [],
   "source": [
    "class class1:\n",
    "    def class_test1(self):\n",
    "        return \"this is a method from class1\"\n",
    "class class2(class1):\n",
    "    def class_test2(self):\n",
    "        return \"this is a meth from class2\"\n",
    "class class3(class2):\n",
    "    pass\n",
    "        \n"
   ]
  },
  {
   "cell_type": "code",
   "execution_count": 21,
   "id": "82cd82f0",
   "metadata": {},
   "outputs": [],
   "source": [
    "obj_class3=class3()"
   ]
  },
  {
   "cell_type": "code",
   "execution_count": 22,
   "id": "42eac06a",
   "metadata": {},
   "outputs": [
    {
     "data": {
      "text/plain": [
       "'this is a method from class1'"
      ]
     },
     "execution_count": 22,
     "metadata": {},
     "output_type": "execute_result"
    }
   ],
   "source": [
    "obj_class3.class_test1()"
   ]
  },
  {
   "cell_type": "code",
   "execution_count": 24,
   "id": "fafd63fe",
   "metadata": {},
   "outputs": [
    {
     "data": {
      "text/plain": [
       "'this is a meth from class2'"
      ]
     },
     "execution_count": 24,
     "metadata": {},
     "output_type": "execute_result"
    }
   ],
   "source": [
    "obj_class3.class_test2()"
   ]
  },
  {
   "cell_type": "markdown",
   "id": "663fdbfd",
   "metadata": {},
   "source": [
    "# Hierarchical inheritance"
   ]
  },
  {
   "cell_type": "code",
   "execution_count": null,
   "id": "6aa3de4f",
   "metadata": {},
   "outputs": [],
   "source": []
  },
  {
   "cell_type": "code",
   "execution_count": 27,
   "id": "40d7e8f4",
   "metadata": {},
   "outputs": [
    {
     "name": "stdout",
     "output_type": "stream",
     "text": [
      "cirlce area: 78.5\n",
      "rectangle area: 24\n"
     ]
    }
   ],
   "source": [
    "class shape:\n",
    "    def areat(self):\n",
    "        pass\n",
    "    \n",
    "class Circle(shape):\n",
    "    def __init__(self,radius):\n",
    "        self.radius=radius\n",
    "    def area(self):\n",
    "        return 3.14*self.radius*self.radius\n",
    "        \n",
    "class Rectangle(shape):\n",
    "    def __init__(self,width,hieght):\n",
    "        self.width=width\n",
    "        self.hieght=hieght\n",
    "    \n",
    "    def area(self):\n",
    "        return self.width*self.hieght\n",
    "    \n",
    "circle=Circle(5)\n",
    "rectangle=Ractangle(4,6)\n",
    "print(\"cirlce area:\",circle.area())\n",
    "print(\"rectangle area:\",rectangle.area())\n",
    "\n",
    "        \n"
   ]
  },
  {
   "cell_type": "code",
   "execution_count": null,
   "id": "879448c5",
   "metadata": {},
   "outputs": [],
   "source": []
  }
 ],
 "metadata": {
  "kernelspec": {
   "display_name": "Python 3 (ipykernel)",
   "language": "python",
   "name": "python3"
  },
  "language_info": {
   "codemirror_mode": {
    "name": "ipython",
    "version": 3
   },
   "file_extension": ".py",
   "mimetype": "text/x-python",
   "name": "python",
   "nbconvert_exporter": "python",
   "pygments_lexer": "ipython3",
   "version": "3.9.13"
  }
 },
 "nbformat": 4,
 "nbformat_minor": 5
}

{
 "cells": [
  {
   "cell_type": "markdown",
   "id": "c22197c2",
   "metadata": {},
   "source": [
    "# Q1. What is Abstraction in OOps? Explain with an example."
   ]
  },
  {
   "cell_type": "markdown",
   "id": "98b9922b",
   "metadata": {},
   "source": [
    "Answer:"
   ]
  },
  {
   "cell_type": "markdown",
   "id": "a6b6013e",
   "metadata": {},
   "source": [
    "Abstraction is a fundamental concept in object-oriented programming (OOP) that focuses on hiding the complex implementation details of an object and exposing only the essential features and behaviors that are relevant to the user. It allows you to create a simplified model of real-world entities and interactions, making it easier to work with complex systems by providing a clear and manageable interface.\n",
    "\n",
    "In other words, abstraction allows you to create classes that define the structure and behavior of objects without exposing the intricate details of how those objects are implemented. Users of these classes only need to know how to interact with the objects and use their methods and properties, without needing to understand the underlying complexity."
   ]
  },
  {
   "cell_type": "markdown",
   "id": "7bd1135a",
   "metadata": {},
   "source": [
    "Example:"
   ]
  },
  {
   "cell_type": "code",
   "execution_count": 10,
   "id": "3903cffe",
   "metadata": {},
   "outputs": [
    {
     "name": "stdout",
     "output_type": "stream",
     "text": [
      "2023 Toyota Camry ,Speed: 10 km/h\n"
     ]
    }
   ],
   "source": [
    "class Car:\n",
    "    def __init__(self, make, model, year):\n",
    "        self.make=make\n",
    "        self.model=model\n",
    "        self.year=year\n",
    "        self.speed=0\n",
    "        \n",
    "    def accelerate(self):\n",
    "        self.speed +=10\n",
    "        \n",
    "    def breake(self):\n",
    "        if self.speed >=10:\n",
    "            self.speed -=10\n",
    "        else:\n",
    "            self.speed = 0\n",
    "            \n",
    "    def display_info(self):\n",
    "        print(f\"{self.year} {self.make} {self.model} ,Speed: {self.speed} km/h\")\n",
    "        \n",
    "my_car=Car(\"Toyota\", \"Camry\", 2023)\n",
    "\n",
    "my_car.accelerate()\n",
    "my_car.display_info()\n",
    "my_car.breake()\n",
    "\n",
    "    "
   ]
  },
  {
   "cell_type": "markdown",
   "id": "f3cceb02",
   "metadata": {},
   "source": [
    "In this example, the Car class abstracts the concept of a car. Users of this class (programmers) can create instances of cars and interact with them through methods like accelerate, brake, and display_info. They don't need to worry about the internal details of how speed is calculated or how the car's information is stored; those details are hidden within the class implementation.\n",
    "\n",
    "Abstraction helps to manage complexity, promote code reusability, and provide a clear separation between the interface and the implementation. It allows programmers to work at a higher level of understanding without being bogged down by low-level details, enhancing the overall efficiency and maintainability of the code."
   ]
  },
  {
   "cell_type": "markdown",
   "id": "ecb6f6f1",
   "metadata": {},
   "source": [
    "# Q2. Differentiate between Abstraction and Encapsulation. Explain with an example."
   ]
  },
  {
   "cell_type": "markdown",
   "id": "7a728eab",
   "metadata": {},
   "source": [
    "Answer:"
   ]
  },
  {
   "cell_type": "markdown",
   "id": "639841f9",
   "metadata": {},
   "source": [
    "Abstraction and encapsulation are both important concepts in object-oriented programming, but they serve different purposes and address different aspects of software design. Let's differentiate between them:\n",
    "\n",
    "Abstraction:\n",
    "\n",
    "Definition: Abstraction involves focusing on the essential characteristics and behaviors of an object while ignoring the irrelevant details. It provides a high-level view of an object's functionality without exposing the internal complexities.\n",
    "\n",
    "Purpose: The main purpose of abstraction is to manage complexity by simplifying the representation of objects and their interactions. It allows users to work with the fundamental aspects of an object without needing to understand its implementation details.\n",
    "\n",
    "Implementation: Abstraction is achieved by defining abstract classes and interfaces that declare the common behaviors without specifying how they are implemented. Concrete subclasses provide the implementation details while adhering to the abstract structure.\n",
    "\n",
    "Example.1:Consider a BankAccount class that abstracts the concept of a bank account. The class might have methods like deposit, withdraw, and get_balance, which allow users to interact with the account without knowing the intricate details of how transactions are processed or how the account balance is maintained. The users are shielded from low-level operations and only need to understand the high-level interactions.\n",
    "\n",
    "Definition: Encapsulation involves bundling the data (attributes) and methods (functions) that operate on the data into a single unit (class). It also enforces access control to protect the internal state of an object.\n",
    "\n",
    "Purpose: The main purpose of encapsulation is to achieve information hiding and data protection. It prevents direct access to an object's internal state and provides controlled ways to interact with the object's attributes and methods.\n",
    "\n",
    "Implementation: Encapsulation is implemented by defining classes and using access modifiers (public, private, protected) to control the visibility of attributes and methods. Private attributes are typically accessed and modified through public methods, ensuring proper validation and manipulation.\n",
    "\n",
    "Example.2: BankAccount example, the data attributes (account_number and balance) and methods (deposit, withdraw, get_balance) are encapsulated within the BankAccount class. The attributes are marked as private using naming conventions (e.g., _account_number, _balance), and they can only be accessed and modified through the class's methods. This ensures that the internal state of the object is controlled and not directly manipulated from outside the class.\n",
    "\n",
    "\n",
    "\n",
    "\n"
   ]
  },
  {
   "cell_type": "markdown",
   "id": "75f4aac3",
   "metadata": {},
   "source": [
    "Example.1:"
   ]
  },
  {
   "cell_type": "code",
   "execution_count": 49,
   "id": "e9eb5e97",
   "metadata": {},
   "outputs": [
    {
     "name": "stdout",
     "output_type": "stream",
     "text": [
      "Balance after deposit: 1500\n",
      "Withdrawn amount: 200\n",
      "Balance after withdrawal: 1300\n",
      "Attempt to withdraw more than balance: Insufficient balance\n",
      "Final balance: 1300\n"
     ]
    }
   ],
   "source": [
    "class BankAccount:\n",
    "    def __init__(self, account_number, balance):\n",
    "        self.account_number = account_number\n",
    "        self.balance = balance\n",
    "\n",
    "    def deposit(self, amount):\n",
    "        self.balance += amount\n",
    "\n",
    "    def withdraw(self, amount):\n",
    "        if self.balance >= amount:\n",
    "            self.balance -= amount\n",
    "            return amount\n",
    "        else:\n",
    "            return \"Insufficient balance\"\n",
    "\n",
    "    def get_balance(self):\n",
    "        return self.balance\n",
    "\n",
    "account = BankAccount(\"12345\", 1000)\n",
    "account.deposit(500)\n",
    "print(\"Balance after deposit:\", account.get_balance())\n",
    "withdrawn_amount = account.withdraw(200)\n",
    "print(\"Withdrawn amount:\", withdrawn_amount)\n",
    "print(\"Balance after withdrawal:\", account.get_balance())\n",
    "insufficient_withdraw = account.withdraw(2000)\n",
    "print(\"Attempt to withdraw more than balance:\", insufficient_withdraw)\n",
    "print(\"Final balance:\", account.get_balance())\n"
   ]
  },
  {
   "cell_type": "markdown",
   "id": "b9326067",
   "metadata": {},
   "source": [
    "Example.2:"
   ]
  },
  {
   "cell_type": "code",
   "execution_count": 52,
   "id": "7095195e",
   "metadata": {},
   "outputs": [
    {
     "name": "stdout",
     "output_type": "stream",
     "text": [
      "Balance after deposit: 6000\n",
      "Withdrawn amount: 2500\n",
      "Balance after withdrawal: 3500\n",
      "Attempt to withdraw more than balance: 2000\n",
      "Final balance: 1500\n"
     ]
    }
   ],
   "source": [
    "class BankAccount:\n",
    "    def __init__(self, account_number, balance):\n",
    "        self.account_number = account_number\n",
    "        self.balance = balance\n",
    "\n",
    "    def deposit(self, amount):\n",
    "        self.balance += amount\n",
    "\n",
    "    def withdraw(self, amount):\n",
    "        if self.balance >= amount:\n",
    "            self.balance -= amount\n",
    "            return amount\n",
    "        else:\n",
    "            return \"Insufficient balance\"\n",
    "\n",
    "    def get_balance(self):\n",
    "        return self.balance\n",
    "\n",
    "account = BankAccount(\"12345\", 1000)\n",
    "account.deposit(5000)\n",
    "print(\"Balance after deposit:\", account.get_balance())\n",
    "withdrawn_amount = account.withdraw(2500)\n",
    "print(\"Withdrawn amount:\", withdrawn_amount)\n",
    "print(\"Balance after withdrawal:\", account.get_balance())\n",
    "insufficient_withdraw = account.withdraw(2000)\n",
    "print(\"Attempt to withdraw more than balance:\", insufficient_withdraw)\n",
    "print(\"Final balance:\", account.get_balance())\n"
   ]
  },
  {
   "cell_type": "markdown",
   "id": "cfdb032b",
   "metadata": {},
   "source": [
    "# Q3. What is abc module in python? Why is it used?"
   ]
  },
  {
   "cell_type": "markdown",
   "id": "c9ab6a7f",
   "metadata": {},
   "source": [
    "Answer:"
   ]
  },
  {
   "cell_type": "markdown",
   "id": "890bb87c",
   "metadata": {},
   "source": [
    "The abc module in Python stands for \"Abstract Base Classes.\" It is used to define abstract base classes and enforce certain programming guidelines and structures for classes that inherit from these base classes.\n",
    "\n",
    "Abstract base classes are classes that are meant to be subclassed and provide a common interface for a group of related classes. They serve as a blueprint, ensuring that certain methods or attributes are implemented consistently in the derived classes. Abstract base classes are particularly useful when you want to create a framework or define a contract that other classes must adhere to.\n",
    "\n",
    "The abc module provides the ABC class as a base class for creating abstract base classes and the abstractmethod decorator to declare abstract methods within these classes. Here's why the abc module is used and its benefits:\n",
    "\n",
    "Enforce Structure: Abstract base classes help enforce a consistent structure among related classes. They specify a set of methods that should be implemented by subclasses, ensuring that classes share a common interface.\n",
    "\n",
    "Avoid Errors: By using abstract base classes, you can catch errors early in the development process. If a subclass doesn't implement all the required methods, Python raises an error when trying to create an instance of the subclass.\n",
    "\n",
    "Code Organization: Abstract base classes improve code organization by grouping related methods and attributes in a single class. This makes your codebase more maintainable and easier to understand.\n",
    "\n",
    "Promote Modularity: Abstract base classes promote modularity and allow you to separate high-level design from implementation details. You can provide a clear contract for how classes should interact without needing to know the specifics of each implementation.\n",
    "\n",
    "Polymorphism: Abstract base classes enable polymorphism, meaning you can write code that works with different subclasses using a common interface. This leads to more flexible and extensible code."
   ]
  },
  {
   "cell_type": "code",
   "execution_count": 2,
   "id": "83a6cb13",
   "metadata": {},
   "outputs": [],
   "source": [
    "import abc\n",
    "class shobhit_university:\n",
    "    @abc.abstractmethod\n",
    "    def students_details(self):\n",
    "        pass\n",
    "    @abc.abstractmethod \n",
    "    def student_assignmet(self):\n",
    "        pass\n",
    "    @abc.abstractmethod\n",
    "    def student_marks(self):\n",
    "        pass"
   ]
  },
  {
   "cell_type": "code",
   "execution_count": 3,
   "id": "64c19241",
   "metadata": {},
   "outputs": [],
   "source": [
    "class student_details(shobhit_university):\n",
    "    def students_details(self):\n",
    "        return \"this is method for student details\"\n",
    "    def student_assignment(self):\n",
    "        return \"this is method for assing details for paeticualt student\"\n",
    "    def student_marks(self):\n",
    "        return \"56, 67, 78, 89, 90\""
   ]
  },
  {
   "cell_type": "code",
   "execution_count": 14,
   "id": "17c9f46c",
   "metadata": {},
   "outputs": [
    {
     "data": {
      "text/plain": [
       "'this is method for student details'"
      ]
     },
     "execution_count": 14,
     "metadata": {},
     "output_type": "execute_result"
    }
   ],
   "source": [
    "sd=student_details()\n",
    "sd.students_details()\n"
   ]
  },
  {
   "cell_type": "code",
   "execution_count": 11,
   "id": "31bfecf0",
   "metadata": {},
   "outputs": [
    {
     "data": {
      "text/plain": [
       "'56, 67, 78, 89, 90'"
      ]
     },
     "execution_count": 11,
     "metadata": {},
     "output_type": "execute_result"
    }
   ],
   "source": [
    "\n",
    "sd.student_marks()"
   ]
  },
  {
   "cell_type": "code",
   "execution_count": 12,
   "id": "ace2fd47",
   "metadata": {},
   "outputs": [
    {
     "data": {
      "text/plain": [
       "'this is method for assing details for paeticualt student'"
      ]
     },
     "execution_count": 12,
     "metadata": {},
     "output_type": "execute_result"
    }
   ],
   "source": [
    "sd.student_assignment()"
   ]
  },
  {
   "cell_type": "markdown",
   "id": "932e34a5",
   "metadata": {},
   "source": [
    "# Q4. How can we achieve data abstraction?"
   ]
  },
  {
   "cell_type": "markdown",
   "id": "3250bc93",
   "metadata": {},
   "source": [
    "Answer:"
   ]
  },
  {
   "cell_type": "markdown",
   "id": "946aeb96",
   "metadata": {},
   "source": [
    "Data abstraction is a fundamental concept in computer science and software engineering that involves hiding the complex implementation details of data and exposing only the essential features or functionalities to users. This abstraction helps in managing the complexity of a system and allows developers to work with higher-level representations of data without needing to understand the underlying intricacies. Achieving data abstraction involves a few key principles:\n",
    "\n",
    "1. **Encapsulation:** Encapsulation involves bundling data and the methods (functions or procedures) that operate on that data into a single unit, often referred to as a class in object-oriented programming. This restricts direct access to the internal details of the data and enforces the use of well-defined interfaces for interacting with the data. This way, the internal implementation can change without affecting the users of the data.\n",
    "\n",
    "2. **Data Hiding:** Data hiding or information hiding is the practice of making certain aspects of the data private or inaccessible from outside the defined interface. This prevents unintended modifications or access to the internal data representation, ensuring that only the designated methods can interact with the data.\n",
    "\n",
    "3. **Abstraction Layers:** Abstraction can be achieved by creating different levels of abstraction, each providing a higher-level view of the data or system. These layers build upon each other, with the lowest layer representing the detailed implementation and each subsequent layer presenting a more abstract and simplified view of the data or functionality.\n",
    "\n",
    "4. **Interfaces and Contracts:** Interfaces define a set of methods or functions that provide a way for external entities to interact with the data or functionality. These interfaces act as contracts, specifying how the data should be used and what behavior can be expected from it. By adhering to these contracts, developers can interact with the data without needing to know its internal details.\n",
    "\n",
    "5. **Inheritance and Polymorphism (for Object-Oriented Programming):** In object-oriented programming, inheritance allows you to create new classes that inherit properties and methods from existing classes. Polymorphism enables objects of different classes to be treated as instances of a common base class, which further promotes abstraction by allowing interchangeable use of objects with different implementations.\n",
    "\n",
    "6. **Modularity:** Breaking down a system into smaller, self-contained modules that interact through well-defined interfaces promotes data abstraction. Each module can encapsulate its own data and operations, and external modules only need to know how to interact with the provided interfaces.\n",
    "\n",
    "7. **API Design:** When creating APIs (Application Programming Interfaces) or libraries, careful design of the provided functions and classes can contribute to data abstraction. APIs should present a clear and intuitive way to use the functionality while abstracting away the implementation details.\n",
    "\n",
    "8. **Documentation:** Clear and concise documentation plays a vital role in achieving data abstraction. It provides users with the necessary information to interact with the data or functionality without needing to understand the internal workings.\n",
    "\n",
    "By following these principles and techniques, software developers can achieve effective data abstraction, resulting in more maintainable, scalable, and understandable software systems."
   ]
  },
  {
   "cell_type": "markdown",
   "id": "157b3920",
   "metadata": {},
   "source": [
    "# Q5. Can we create an instance of an abstract class? Explain your answer."
   ]
  },
  {
   "cell_type": "markdown",
   "id": "f2d508ff",
   "metadata": {},
   "source": [
    "No, we cannot create an instance of an abstract class. An abstract class is a class that cannot be instantiated directly. It serves as a blueprint for other classes and is meant to be subclassed by concrete (non-abstract) classes. Abstract classes often define certain common attributes and methods that should be present in their subclasses, but they lack complete implementation details.\n",
    "why we cannot create an instance of an abstract class:\n",
    "\n",
    "Incomplete Implementation: Abstract classes contain one or more abstract methods, which are declared without providing a concrete implementation in the abstract class itself. These methods are meant to be overridden by the subclasses to provide their own implementations. Since abstract classes have incomplete method implementations, they cannot be instantiated because it's not clear how those methods should behave.\n",
    "\n",
    "Interface and Contract: Abstract classes often define a contract that subclasses must adhere to by implementing the required methods. This contract ensures that subclasses provide specific functionality, but the abstract class itself doesn't have enough information to fulfill that contract.\n",
    "\n",
    "Conceptual Incompleteness: Abstract classes are meant to represent general concepts or behaviors that need to be extended and specialized by subclasses. They often lack concrete data and logic, making them unsuitable for instantiation."
   ]
  },
  {
   "cell_type": "markdown",
   "id": "44d2e326",
   "metadata": {},
   "source": [
    ", abstract classes exist to provide a common structure and contract for subclasses to follow, but they cannot be instantiated directly due to their incomplete nature. Subclasses must be created to provide complete implementations for the abstract methods and to make instances that can be used."
   ]
  },
  {
   "cell_type": "code",
   "execution_count": null,
   "id": "6c0df536",
   "metadata": {},
   "outputs": [],
   "source": []
  }
 ],
 "metadata": {
  "kernelspec": {
   "display_name": "Python 3 (ipykernel)",
   "language": "python",
   "name": "python3"
  },
  "language_info": {
   "codemirror_mode": {
    "name": "ipython",
    "version": 3
   },
   "file_extension": ".py",
   "mimetype": "text/x-python",
   "name": "python",
   "nbconvert_exporter": "python",
   "pygments_lexer": "ipython3",
   "version": "3.9.13"
  }
 },
 "nbformat": 4,
 "nbformat_minor": 5
}

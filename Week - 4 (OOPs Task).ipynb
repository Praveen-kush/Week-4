{
 "cells": [
  {
   "cell_type": "markdown",
   "id": "740ed460",
   "metadata": {},
   "source": [
    "# Q1, Create a vehicle class with an init method having instance variables as name_of_vehicle, max_speed and average_of_vehicle.\n",
    "\n"
   ]
  },
  {
   "cell_type": "markdown",
   "id": "0398b2b5",
   "metadata": {},
   "source": [
    "Answer:"
   ]
  },
  {
   "cell_type": "code",
   "execution_count": 18,
   "id": "8c2e7a98",
   "metadata": {},
   "outputs": [
    {
     "name": "stdout",
     "output_type": "stream",
     "text": [
      "Car: Max Speed - 200 km/h, Average Speed - 80 km/h\n",
      "Bike: Max Speed - 60 km/h, Average Speed - 30 km/h\n"
     ]
    }
   ],
   "source": [
    "class Vehicle:\n",
    "    def __init__(self, name_of_vehicle, max_speed, average_speed):\n",
    "        self.name_of_vehicle = name_of_vehicle\n",
    "        self.max_speed = max_speed\n",
    "        self.average_speed = average_speed\n",
    "        \n",
    "        \n",
    "car = Vehicle(\"Car\", 200, 80)\n",
    "bike = Vehicle(\"Bike\", 60, 30)\n",
    "\n",
    "print(f\"{car.name_of_vehicle}: Max Speed - {car.max_speed} km/h, Average Speed - {car.average_speed} km/h\")\n",
    "print(f\"{bike.name_of_vehicle}: Max Speed - {bike.max_speed} km/h, Average Speed - {bike.average_speed} km/h\")"
   ]
  },
  {
   "cell_type": "markdown",
   "id": "7351bf05",
   "metadata": {},
   "source": [
    "# Q2. Create a child class car from the vehicle class created in Que 1, which will inherit the vehicle class.Create a method named seating_capacity which takes capacity as an argument and returns the name of the vehicle and its seating capacity.\n",
    "\n"
   ]
  },
  {
   "cell_type": "markdown",
   "id": "17d4b633",
   "metadata": {},
   "source": [
    "Answer:"
   ]
  },
  {
   "cell_type": "code",
   "execution_count": 5,
   "id": "9f7d7141",
   "metadata": {},
   "outputs": [
    {
     "name": "stdout",
     "output_type": "stream",
     "text": [
      "Sedan: Max Speed - 180 km/h, Average Speed - 60 km/h\n",
      "Sedan - Seating Capacity: 5\n"
     ]
    }
   ],
   "source": [
    "class Car(Vehicle):\n",
    "    def __init__(self, name_of_vehicle, max_speed, average_speed):\n",
    "        self.name_of_vehicle = name_of_vehicle\n",
    "        self.max_speed = max_speed\n",
    "        self.average_speed = average_speed\n",
    "class Car(Vehicle):\n",
    "    def __init__(self, name_of_vehicle, max_speed, average_speed):\n",
    "        super().__init__(name_of_vehicle, max_speed, average_speed)\n",
    "        \n",
    "    def seating_capacity(self, capacity):\n",
    "        return f\"{self.name_of_vehicle} - Seating Capacity:{capacity}\"\n",
    "    car_instance = Car(\"Seden\", 180, 60)\n",
    "    \n",
    "print(f\"{car_instance.name_of_vehicle}: Max Speed - {car_instance.max_speed} km/h, Average Speed - {car_instance.average_speed} km/h\")\n",
    "print(car_instance.seating_capacity(5))"
   ]
  },
  {
   "cell_type": "markdown",
   "id": "ac455ca9",
   "metadata": {},
   "source": [
    "# Q3. What is multiple inheritance? Write a python code to demonstrate multiple inheritance."
   ]
  },
  {
   "cell_type": "markdown",
   "id": "de253625",
   "metadata": {},
   "source": [
    "Answer:"
   ]
  },
  {
   "cell_type": "markdown",
   "id": "52dbf0be",
   "metadata": {},
   "source": [
    "Multiple inheritance is a object-oriented progragramming langauges that allows class inherit attributes and methods form more than one parante class. This means that a subclass can inherit from multiple superclasses, combining functionalities. while multiple inheritance can provide flexibility, it can also lead to complexities and ambiguity in certain situations."
   ]
  },
  {
   "cell_type": "code",
   "execution_count": 6,
   "id": "cc63ce89",
   "metadata": {},
   "outputs": [
    {
     "name": "stdout",
     "output_type": "stream",
     "text": [
      "Buddy is a ParrotDog and can speak like both a dog and a parrot\n"
     ]
    }
   ],
   "source": [
    "class Animal:\n",
    "    def __init__(self, name):\n",
    "        self.name = name\n",
    "\n",
    "    def speak(self):\n",
    "        pass\n",
    "\n",
    "class Mammal(Animal):\n",
    "    def speak(self):\n",
    "        return f\"{self.name} is making a mammal sound\"\n",
    "\n",
    "class Bird(Animal):\n",
    "    def speak(self):\n",
    "        return f\"{self.name} is chirping like a bird\"\n",
    "\n",
    "class Dog(Mammal):\n",
    "    def speak(self):\n",
    "        return f\"{self.name} is barking like a dog\"\n",
    "\n",
    "class Parrot(Bird):\n",
    "    def speak(self):\n",
    "        return f\"{self.name} is mimicking human speech like a parrot\"\n",
    "\n",
    "class ParrotDog(Dog, Parrot):\n",
    "    def speak(self):\n",
    "        return f\"{self.name} is a ParrotDog and can speak like both a dog and a parrot\"\n",
    "\n",
    "buddy = ParrotDog(\"Buddy\")\n",
    "print(buddy.speak())  \n"
   ]
  },
  {
   "cell_type": "markdown",
   "id": "9a531165",
   "metadata": {},
   "source": [
    "# Q4. What are getter and setter in python? Create a class and create a getter and a setter method in this class.\n"
   ]
  },
  {
   "cell_type": "markdown",
   "id": "e48302b0",
   "metadata": {},
   "source": [
    "Answer:"
   ]
  },
  {
   "cell_type": "markdown",
   "id": "82b75e59",
   "metadata": {},
   "source": [
    "In Python, getter and setter methods used to access and modify the attributes (instance variables) of a class, respectively. They provide controlled access to class attributes by encapsulating tham and allowing you to  define custom logic for attribute access and modification."
   ]
  },
  {
   "cell_type": "markdown",
   "id": "a61fa6d7",
   "metadata": {},
   "source": [
    "Getter Method: A getter method is used to retrive value of an attribute. It is often. It is used to ensoure that certain processing or validation occure before returning the attribute's value."
   ]
  },
  {
   "cell_type": "markdown",
   "id": "fc6960f1",
   "metadata": {},
   "source": [
    "Setter Mathod: A setter method is used to modify the value of an attribute. It can include logic to validate the new value or perform additional actions when the attribute is being  changed. "
   ]
  },
  {
   "cell_type": "code",
   "execution_count": 7,
   "id": "599c54ee",
   "metadata": {},
   "outputs": [
    {
     "name": "stdout",
     "output_type": "stream",
     "text": [
      "Initial age: 23\n",
      "Updated age: 35\n",
      "Age cannot be negative!\n",
      "age after invalid update: 35\n"
     ]
    }
   ],
   "source": [
    "class Person:\n",
    "    def __init__(self, name, age):\n",
    "        self._name = name\n",
    "        self._age = age\n",
    "        \n",
    "    def get_age(self):\n",
    "        return self._age\n",
    "    def set_age(self, new_age):\n",
    "        if new_age >=0:\n",
    "            self._age = new_age\n",
    "        else:\n",
    "            print(\"Age cannot be negative!\")\n",
    "person = Person(\"Ram\", 23)\n",
    "print(\"Initial age:\", person.get_age())\n",
    "person.set_age(35)\n",
    "print(\"Updated age:\", person.get_age())\n",
    "person.set_age(-10)\n",
    "print(\"age after invalid update:\", person.get_age())"
   ]
  },
  {
   "cell_type": "markdown",
   "id": "b52420b1",
   "metadata": {},
   "source": [
    "# Q5.What is method overriding in python? Write a python code to demonstrate method overriding."
   ]
  },
  {
   "cell_type": "markdown",
   "id": "c5ed605c",
   "metadata": {},
   "source": [
    "Answer:"
   ]
  },
  {
   "cell_type": "markdown",
   "id": "9ad031ca",
   "metadata": {},
   "source": [
    "Method overriding is a concept in object-oriented programming where a subclass provides a specific implementation for a method that is already defined in its superclass. The overridden method in the subclass should have the same name, parameters, and return type as the method in the superclass. By overriding methods, you can customize the behavior of a subclass while still maintaining the same method signature."
   ]
  },
  {
   "cell_type": "code",
   "execution_count": 9,
   "id": "f9723378",
   "metadata": {},
   "outputs": [
    {
     "name": "stdout",
     "output_type": "stream",
     "text": [
      "Dog is barking\n",
      "Cat is meowing\n"
     ]
    }
   ],
   "source": [
    "class Animal:\n",
    "    def speak(self):\n",
    "        return \"animal is  making a sound\"\n",
    "class Dog(Animal):\n",
    "    def speak(self):\n",
    "        return \"Dog is barking\"\n",
    "    \n",
    "class Cat(Animal):\n",
    "    def speak(self):\n",
    "        return \"Cat is meowing\"\n",
    "    \n",
    "dog = Dog()\n",
    "cat = Cat()\n",
    "\n",
    "print(dog.speak())\n",
    "print(cat.speak())\n"
   ]
  }
 ],
 "metadata": {
  "kernelspec": {
   "display_name": "Python 3 (ipykernel)",
   "language": "python",
   "name": "python3"
  },
  "language_info": {
   "codemirror_mode": {
    "name": "ipython",
    "version": 3
   },
   "file_extension": ".py",
   "mimetype": "text/x-python",
   "name": "python",
   "nbconvert_exporter": "python",
   "pygments_lexer": "ipython3",
   "version": "3.9.13"
  }
 },
 "nbformat": 4,
 "nbformat_minor": 5
}
